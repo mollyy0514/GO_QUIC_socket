{
 "cells": [
  {
   "cell_type": "code",
   "execution_count": 1,
   "metadata": {},
   "outputs": [],
   "source": [
    "import pandas as pd"
   ]
  },
  {
   "cell_type": "code",
   "execution_count": 15,
   "metadata": {},
   "outputs": [
    {
     "data": {
      "text/html": [
       "<div>\n",
       "<style scoped>\n",
       "    .dataframe tbody tr th:only-of-type {\n",
       "        vertical-align: middle;\n",
       "    }\n",
       "\n",
       "    .dataframe tbody tr th {\n",
       "        vertical-align: top;\n",
       "    }\n",
       "\n",
       "    .dataframe thead th {\n",
       "        text-align: right;\n",
       "    }\n",
       "</style>\n",
       "<table border=\"1\" class=\"dataframe\">\n",
       "  <thead>\n",
       "    <tr style=\"text-align: right;\">\n",
       "      <th></th>\n",
       "      <th>frame.number</th>\n",
       "      <th>frame.time</th>\n",
       "      <th>frame.len</th>\n",
       "      <th>sll.pkttype</th>\n",
       "      <th>_ws.col.Protocol</th>\n",
       "      <th>ip.proto</th>\n",
       "      <th>ip.len</th>\n",
       "      <th>ip.src</th>\n",
       "      <th>ip.dst</th>\n",
       "      <th>udp.length</th>\n",
       "      <th>udp.srcport</th>\n",
       "      <th>udp.dstport</th>\n",
       "      <th>data.len</th>\n",
       "      <th>udp.payload</th>\n",
       "      <th>_ws.col.Info</th>\n",
       "    </tr>\n",
       "  </thead>\n",
       "  <tbody>\n",
       "    <tr>\n",
       "      <th>0</th>\n",
       "      <td>1</td>\n",
       "      <td>Nov  3, 2023 16:27:08.684805000 CST</td>\n",
       "      <td>1294</td>\n",
       "      <td>NaN</td>\n",
       "      <td>QUIC</td>\n",
       "      <td>17</td>\n",
       "      <td>1280</td>\n",
       "      <td>192.168.1.79</td>\n",
       "      <td>192.168.1.78</td>\n",
       "      <td>1260</td>\n",
       "      <td>58394</td>\n",
       "      <td>4242</td>\n",
       "      <td>NaN</td>\n",
       "      <td>cd0000000110afd17c09723247017244f2074885f2e500...</td>\n",
       "      <td>Initial, DCID=afd17c09723247017244f2074885f2e5...</td>\n",
       "    </tr>\n",
       "    <tr>\n",
       "      <th>1</th>\n",
       "      <td>2</td>\n",
       "      <td>Nov  3, 2023 16:27:08.684808000 CST</td>\n",
       "      <td>1294</td>\n",
       "      <td>NaN</td>\n",
       "      <td>QUIC</td>\n",
       "      <td>17</td>\n",
       "      <td>1280</td>\n",
       "      <td>192.168.1.79</td>\n",
       "      <td>192.168.1.78</td>\n",
       "      <td>1260</td>\n",
       "      <td>58394</td>\n",
       "      <td>4242</td>\n",
       "      <td>NaN</td>\n",
       "      <td>c00000000110afd17c09723247017244f2074885f2e500...</td>\n",
       "      <td>Initial, DCID=afd17c09723247017244f2074885f2e5...</td>\n",
       "    </tr>\n",
       "    <tr>\n",
       "      <th>2</th>\n",
       "      <td>3</td>\n",
       "      <td>Nov  3, 2023 16:27:08.684809000 CST</td>\n",
       "      <td>1294</td>\n",
       "      <td>NaN</td>\n",
       "      <td>QUIC</td>\n",
       "      <td>17</td>\n",
       "      <td>1280</td>\n",
       "      <td>192.168.1.79</td>\n",
       "      <td>192.168.1.78</td>\n",
       "      <td>1260</td>\n",
       "      <td>58394</td>\n",
       "      <td>4242</td>\n",
       "      <td>NaN</td>\n",
       "      <td>c10000000110afd17c09723247017244f2074885f2e500...</td>\n",
       "      <td>Initial, DCID=afd17c09723247017244f2074885f2e5...</td>\n",
       "    </tr>\n",
       "    <tr>\n",
       "      <th>5</th>\n",
       "      <td>6</td>\n",
       "      <td>Nov  3, 2023 16:27:08.694811000 CST</td>\n",
       "      <td>1294</td>\n",
       "      <td>NaN</td>\n",
       "      <td>QUIC</td>\n",
       "      <td>17</td>\n",
       "      <td>1280</td>\n",
       "      <td>192.168.1.79</td>\n",
       "      <td>192.168.1.78</td>\n",
       "      <td>1260</td>\n",
       "      <td>58394</td>\n",
       "      <td>4242</td>\n",
       "      <td>NaN</td>\n",
       "      <td>c30000000104d455f09a00004477e14fac32ce6b6b63d1...</td>\n",
       "      <td>Protected Payload (KP0), DCID=d455f09a, PKN: 0...</td>\n",
       "    </tr>\n",
       "    <tr>\n",
       "      <th>6</th>\n",
       "      <td>7</td>\n",
       "      <td>Nov  3, 2023 16:27:08.694816000 CST</td>\n",
       "      <td>78</td>\n",
       "      <td>NaN</td>\n",
       "      <td>QUIC</td>\n",
       "      <td>17</td>\n",
       "      <td>64</td>\n",
       "      <td>192.168.1.79</td>\n",
       "      <td>192.168.1.78</td>\n",
       "      <td>44</td>\n",
       "      <td>58394</td>\n",
       "      <td>4242</td>\n",
       "      <td>NaN</td>\n",
       "      <td>ef0000000104d455f09a00401777969bf090a7f75c4114...</td>\n",
       "      <td>Handshake, DCID=d455f09a, PKN: 1, ACK</td>\n",
       "    </tr>\n",
       "  </tbody>\n",
       "</table>\n",
       "</div>"
      ],
      "text/plain": [
       "   frame.number                           frame.time  frame.len  sll.pkttype  \\\n",
       "0             1  Nov  3, 2023 16:27:08.684805000 CST       1294          NaN   \n",
       "1             2  Nov  3, 2023 16:27:08.684808000 CST       1294          NaN   \n",
       "2             3  Nov  3, 2023 16:27:08.684809000 CST       1294          NaN   \n",
       "5             6  Nov  3, 2023 16:27:08.694811000 CST       1294          NaN   \n",
       "6             7  Nov  3, 2023 16:27:08.694816000 CST         78          NaN   \n",
       "\n",
       "  _ws.col.Protocol  ip.proto  ip.len        ip.src        ip.dst  udp.length  \\\n",
       "0             QUIC        17    1280  192.168.1.79  192.168.1.78        1260   \n",
       "1             QUIC        17    1280  192.168.1.79  192.168.1.78        1260   \n",
       "2             QUIC        17    1280  192.168.1.79  192.168.1.78        1260   \n",
       "5             QUIC        17    1280  192.168.1.79  192.168.1.78        1260   \n",
       "6             QUIC        17      64  192.168.1.79  192.168.1.78          44   \n",
       "\n",
       "   udp.srcport  udp.dstport  data.len  \\\n",
       "0        58394         4242       NaN   \n",
       "1        58394         4242       NaN   \n",
       "2        58394         4242       NaN   \n",
       "5        58394         4242       NaN   \n",
       "6        58394         4242       NaN   \n",
       "\n",
       "                                         udp.payload  \\\n",
       "0  cd0000000110afd17c09723247017244f2074885f2e500...   \n",
       "1  c00000000110afd17c09723247017244f2074885f2e500...   \n",
       "2  c10000000110afd17c09723247017244f2074885f2e500...   \n",
       "5  c30000000104d455f09a00004477e14fac32ce6b6b63d1...   \n",
       "6  ef0000000104d455f09a00401777969bf090a7f75c4114...   \n",
       "\n",
       "                                        _ws.col.Info  \n",
       "0  Initial, DCID=afd17c09723247017244f2074885f2e5...  \n",
       "1  Initial, DCID=afd17c09723247017244f2074885f2e5...  \n",
       "2  Initial, DCID=afd17c09723247017244f2074885f2e5...  \n",
       "5  Protected Payload (KP0), DCID=d455f09a, PKN: 0...  \n",
       "6              Handshake, DCID=d455f09a, PKN: 1, ACK  "
      ]
     },
     "execution_count": 15,
     "metadata": {},
     "output_type": "execute_result"
    }
   ],
   "source": [
    "df = pd.read_csv(\"./capturequic_pcap.csv\", sep='@')\n",
    "cond = df['ip.dst'] == '192.168.1.78'\n",
    "df = df[cond]\n",
    "df[:5]"
   ]
  },
  {
   "cell_type": "code",
   "execution_count": 9,
   "metadata": {},
   "outputs": [
    {
     "name": "stdout",
     "output_type": "stream",
     "text": [
      "2176711613 1233338667 3569646896\n"
     ]
    }
   ],
   "source": [
    "x = df['udp.payload'].iloc[0]\n",
    "t = int(x[16:24], 16)\n",
    "usec = int(x[24:32], 16)\n",
    "seq = int(x[32:40], 16)\n",
    "print(t, usec, seq)"
   ]
  },
  {
   "cell_type": "code",
   "execution_count": 11,
   "metadata": {},
   "outputs": [
    {
     "data": {
      "text/plain": [
       "'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'"
      ]
     },
     "execution_count": 11,
     "metadata": {},
     "output_type": "execute_result"
    }
   ],
   "source": [
    "df['udp.payload'].iloc[0]"
   ]
  },
  {
   "cell_type": "code",
   "execution_count": 12,
   "metadata": {},
   "outputs": [
    {
     "data": {
      "text/plain": [
       "'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'"
      ]
     },
     "execution_count": 12,
     "metadata": {},
     "output_type": "execute_result"
    }
   ],
   "source": [
    "df['udp.payload'].iloc[1]"
   ]
  },
  {
   "cell_type": "code",
   "execution_count": null,
   "metadata": {},
   "outputs": [],
   "source": []
  }
 ],
 "metadata": {
  "kernelspec": {
   "display_name": "Python 3",
   "language": "python",
   "name": "python3"
  },
  "language_info": {
   "codemirror_mode": {
    "name": "ipython",
    "version": 3
   },
   "file_extension": ".py",
   "mimetype": "text/x-python",
   "name": "python",
   "nbconvert_exporter": "python",
   "pygments_lexer": "ipython3",
   "version": "3.8.10"
  },
  "orig_nbformat": 4
 },
 "nbformat": 4,
 "nbformat_minor": 2
}
