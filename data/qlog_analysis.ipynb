{
 "cells": [
  {
   "cell_type": "code",
   "execution_count": 71,
   "metadata": {},
   "outputs": [],
   "source": [
    "import json\n",
    "import statistics\n",
    "\n",
    "import numpy as np\n",
    "import pandas as pd\n",
    "import seaborn as sns\n",
    "import matplotlib.pyplot as plt"
   ]
  },
  {
   "cell_type": "code",
   "execution_count": 59,
   "metadata": {},
   "outputs": [],
   "source": [
    "def CreateJsonEntry(file_path):\n",
    "    file_path1 = './20240105/log_ea30528f8f8971a62700286f30ee0a_client.qlog'\n",
    "    with open(file_path, 'r') as file:\n",
    "        lines = file.readlines()\n",
    "\n",
    "    # Add commas between lines\n",
    "    json_str = \",\".join(lines)\n",
    "    # Surround the entire string with square brackets to create a JSON array\n",
    "    json_str = \"[\" + json_str + \"]\"\n",
    "    # Load the JSON array\n",
    "    json_entry = json.loads(json_str)\n",
    "    \n",
    "    return json_entry\n",
    "\n",
    "def GetRttList(json_entry, first_rtt_set_time):\n",
    "    latest_rtt_list = []\n",
    "    for entry in json_entry:\n",
    "        # Check if the entry has a 'time' field and its value is after 103\n",
    "        if 'time' in entry and entry['time'] > first_rtt_set_time:\n",
    "            # Check if the entry has 'name' field and it is \"recovery:metrics_updated\"\n",
    "            if 'name' in entry and entry['name'] == 'recovery:metrics_updated':\n",
    "                data = entry.get('data', {})\n",
    "                latest_rtt = data.get('latest_rtt')\n",
    "                \n",
    "                if latest_rtt is not None:\n",
    "                    latest_rtt_list.append(latest_rtt)\n",
    "                    # Print the time and corresponding latest_rtt\n",
    "                    # print(f\"Time: {entry['time']}, Latest RTT: {latest_rtt}\")\n",
    "\n",
    "    return latest_rtt_list"
   ]
  },
  {
   "cell_type": "code",
   "execution_count": 60,
   "metadata": {},
   "outputs": [],
   "source": [
    "# Open the .qlog file for reading\n",
    "file_path_wifi = './20240105/log_ea30528f8f8971a62700286f30ee0a_client.qlog'\n",
    "json_entry_wifi = CreateJsonEntry(file_path_wifi)\n",
    "latest_rtt_list_wifi = GetRttList(json_entry_wifi, 110)"
   ]
  },
  {
   "cell_type": "code",
   "execution_count": 61,
   "metadata": {},
   "outputs": [],
   "source": [
    "# Open the .qlog file for reading\n",
    "file_path_4G_CHT = './20240105_4G_CHT/log_f5134b8b2aafbf5b_client.qlog'\n",
    "json_entry_4G_CHT = CreateJsonEntry(file_path_4G_CHT)\n",
    "latest_rtt_list_4G_CHT = GetRttList(json_entry_4G_CHT, 70)"
   ]
  },
  {
   "cell_type": "code",
   "execution_count": 62,
   "metadata": {},
   "outputs": [],
   "source": [
    "# Open the .qlog file for reading\n",
    "file_path4G_TM = './20240105_4G_TM/log_d760c725e7a29a1935fefbf9b5a89d35d4adb0cc_client.qlog'\n",
    "json_entry_4G_TM = CreateJsonEntry(file_path4G_TM)\n",
    "latest_rtt_list_4G_TM = GetRttList(json_entry_4G_TM, 110)"
   ]
  },
  {
   "cell_type": "code",
   "execution_count": 73,
   "metadata": {},
   "outputs": [],
   "source": [
    "# Open the .qlog file for reading\n",
    "file_path_5G_CHT = './20240105_5G_CHT/log_4f9f643375a62b4b0511693923a6ed47_client.qlog'\n",
    "json_entry_5G_CHT = CreateJsonEntry(file_path_5G_CHT)\n",
    "latest_rtt_list_5G_CHT = GetRttList(json_entry_5G_CHT, 47)"
   ]
  },
  {
   "cell_type": "code",
   "execution_count": 74,
   "metadata": {},
   "outputs": [
    {
     "name": "stdout",
     "output_type": "stream",
     "text": [
      "120\n",
      "120\n",
      "120\n",
      "120\n"
     ]
    }
   ],
   "source": [
    "# check the number of latest_rtt_list\n",
    "print(len(latest_rtt_list_wifi))\n",
    "print(len(latest_rtt_list_4G_CHT))\n",
    "print(len(latest_rtt_list_4G_TM))\n",
    "print(len(latest_rtt_list_5G_CHT))"
   ]
  },
  {
   "cell_type": "code",
   "execution_count": 75,
   "metadata": {},
   "outputs": [
    {
     "name": "stdout",
     "output_type": "stream",
     "text": [
      "wifi: \n",
      "standard deviation: 5.276751068816724\n",
      "mean: 20.347036866666667\n",
      "median: 19.9138335\n",
      "4G_CHT: \n",
      "standard deviation: 139.09793549955413\n",
      "mean: 105.87732565833333\n",
      "median: 82.177458\n",
      "4G_TM: \n",
      "standard deviation: 12.93212013884221\n",
      "mean: 70.214542375\n",
      "median: 67.82724999999999\n",
      "5G_CHT: \n",
      "standard deviation: 28.71907226826704\n",
      "mean: 67.73820976666667\n",
      "median: 60.869749999999996\n"
     ]
    }
   ],
   "source": [
    "# 單位：ms\n",
    "def PrintStats(rtt_list):\n",
    "    stdev = statistics.stdev(rtt_list)\n",
    "    mean = statistics.mean(rtt_list)\n",
    "    median = statistics.median(rtt_list)\n",
    "    print(\"standard deviation:\", stdev)\n",
    "    print(\"mean:\", mean)\n",
    "    print(\"median:\", median)\n",
    "\n",
    "print(\"wifi: \")\n",
    "PrintStats(latest_rtt_list_wifi)\n",
    "print(\"4G_CHT: \")\n",
    "PrintStats(latest_rtt_list_4G_CHT)\n",
    "print(\"4G_TM: \")\n",
    "PrintStats(latest_rtt_list_4G_TM)\n",
    "print(\"5G_CHT: \")\n",
    "PrintStats(latest_rtt_list_5G_CHT)"
   ]
  },
  {
   "cell_type": "code",
   "execution_count": 76,
   "metadata": {},
   "outputs": [
    {
     "name": "stdout",
     "output_type": "stream",
     "text": [
      "wifi: \n",
      "q1: 16.755426749999998 , q3: 23.7615205 , iqr: 7.006093750000002 , lower_fence: 6.246286124999996 , higher_fence: 34.270661125000004\n",
      "4G_CHT: \n",
      "q1: 76.360198 , q3: 88.65483325 , iqr: 12.294635249999999 , lower_fence: 57.918245125 , higher_fence: 107.096786125\n",
      "4G_TM: \n",
      "q1: 62.19269825 , q3: 75.236052 , iqr: 13.043353750000001 , lower_fence: 42.627667625 , higher_fence: 94.801082625\n",
      "5G_CHT: \n",
      "q1: 52.795333 , q3: 77.94991675 , iqr: 25.15458375 , lower_fence: 15.063457374999999 , higher_fence: 115.681792375\n"
     ]
    }
   ],
   "source": [
    "q1_list = []\n",
    "q3_list = []\n",
    "iqr_list = []\n",
    "lower_list = []\n",
    "higher_list = []\n",
    "\n",
    "def GetIqr(rtt_list):\n",
    "    q1, q3 = np.percentile(rtt_list, [25, 75])\n",
    "    iqr = q3 - q1\n",
    "    lower_fence = q1 - (1.5*iqr)\n",
    "    higher_fence = q3 + (1.5*iqr)\n",
    "\n",
    "    q1_list.append(q1)\n",
    "    q3_list.append(q3)\n",
    "    iqr_list.append(iqr)\n",
    "    lower_list.append(lower_fence)\n",
    "    higher_list.append(higher_fence)\n",
    "\n",
    "\n",
    "GetIqr(latest_rtt_list_wifi)\n",
    "GetIqr(latest_rtt_list_4G_CHT)\n",
    "GetIqr(latest_rtt_list_4G_TM)\n",
    "GetIqr(latest_rtt_list_5G_CHT)\n",
    "\n",
    "for i in range(4):\n",
    "    if i == 0:\n",
    "        print(\"wifi: \")\n",
    "    if i == 1:\n",
    "        print(\"4G_CHT: \") \n",
    "    if i == 2:\n",
    "        print(\"4G_TM: \") \n",
    "    if i == 3:\n",
    "        print(\"5G_CHT: \")\n",
    "    print(\"q1:\", q1_list[i], \", q3:\", q3_list[i], \", iqr:\", iqr_list[i], \", lower_fence:\", lower_list[i], \", higher_fence:\", higher_list[i])"
   ]
  },
  {
   "cell_type": "code",
   "execution_count": 84,
   "metadata": {},
   "outputs": [
    {
     "data": {
      "image/png": "[encoded data removed]",
      "text/plain": [
       "<Figure size 640x480 with 1 Axes>"
      ]
     },
     "metadata": {},
     "output_type": "display_data"
    }
   ],
   "source": [
    "# Assuming latest_rtt_list1, latest_rtt_list2, latest_rtt_list3, and latest_rtt_list4 are your lists\n",
    "data = {'Group 1': latest_rtt_list_wifi,\n",
    "        'Group 2': latest_rtt_list_4G_CHT,\n",
    "        'Group 3': latest_rtt_list_4G_TM,\n",
    "        'Group 4': latest_rtt_list_5G_CHT}\n",
    "\n",
    "df = pd.DataFrame(data)\n",
    "\n",
    "# Create a boxplot\n",
    "sns.boxplot(data=df)\n",
    "\n",
    "# Set a custom y-axis limit\n",
    "plt.ylim(0, 150)  # Adjust the limits based on your data\n",
    "plt.show()"
   ]
  },
  {
   "cell_type": "code",
   "execution_count": 85,
   "metadata": {},
   "outputs": [
    {
     "data": {
      "image/png": "[encoded data removed]",
      "text/plain": [
       "<Figure size 640x480 with 1 Axes>"
      ]
     },
     "metadata": {},
     "output_type": "display_data"
    }
   ],
   "source": [
    "# Assuming latest_rtt_list1, latest_rtt_list2, latest_rtt_list3, and latest_rtt_list4 are your lists\n",
    "data = {'Group 1': latest_rtt_list_wifi,\n",
    "        'Group 2': latest_rtt_list_4G_CHT,\n",
    "        'Group 3': latest_rtt_list_4G_TM,\n",
    "        'Group 4': latest_rtt_list_5G_CHT}\n",
    "\n",
    "df = pd.DataFrame(data)\n",
    "\n",
    "# Create a boxplot\n",
    "sns.boxplot(data=df)\n",
    "plt.show()"
   ]
  }
 ],
 "metadata": {
  "kernelspec": {
   "display_name": "Python 3",
   "language": "python",
   "name": "python3"
  },
  "language_info": {
   "codemirror_mode": {
    "name": "ipython",
    "version": 3
   },
   "file_extension": ".py",
   "mimetype": "text/x-python",
   "name": "python",
   "nbconvert_exporter": "python",
   "pygments_lexer": "ipython3",
   "version": "3.11.2"
  }
 },
 "nbformat": 4,
 "nbformat_minor": 2
}
