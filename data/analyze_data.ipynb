{
 "cells": [
  {
   "cell_type": "code",
   "execution_count": 2,
   "metadata": {},
   "outputs": [],
   "source": [
    "import statistics\n",
    "import pandas as pd\n",
    "import numpy as np\n",
    "import seaborn as sns\n",
    "import matplotlib.pyplot as plt"
   ]
  },
  {
   "cell_type": "code",
   "execution_count": 3,
   "metadata": {},
   "outputs": [],
   "source": [
    "filepath = \"/Volumes/mollyT7/2024-04-24/server_pcap/capturequic_s_20240424_1346_5203_pcap.csv\"\n",
    "df = pd.read_csv(filepath, sep=',', encoding='latin-1')\n"
   ]
  },
  {
   "cell_type": "code",
   "execution_count": 4,
   "metadata": {},
   "outputs": [
    {
     "data": {
      "text/html": [
       "<div>\n",
       "<style scoped>\n",
       "    .dataframe tbody tr th:only-of-type {\n",
       "        vertical-align: middle;\n",
       "    }\n",
       "\n",
       "    .dataframe tbody tr th {\n",
       "        vertical-align: top;\n",
       "    }\n",
       "\n",
       "    .dataframe thead th {\n",
       "        text-align: right;\n",
       "    }\n",
       "</style>\n",
       "<table border=\"1\" class=\"dataframe\">\n",
       "  <thead>\n",
       "    <tr style=\"text-align: right;\">\n",
       "      <th></th>\n",
       "      <th>No.</th>\n",
       "      <th>Arrival Time</th>\n",
       "      <th>Epoch Time</th>\n",
       "      <th>Time</th>\n",
       "      <th>Source</th>\n",
       "      <th>Destination</th>\n",
       "      <th>Source Port</th>\n",
       "      <th>Destination Port</th>\n",
       "      <th>Protocol</th>\n",
       "      <th>Length</th>\n",
       "      <th>Info</th>\n",
       "      <th>Stream Data</th>\n",
       "      <th>QUIC Short Header</th>\n",
       "    </tr>\n",
       "  </thead>\n",
       "  <tbody>\n",
       "    <tr>\n",
       "      <th>1</th>\n",
       "      <td>2</td>\n",
       "      <td>Apr 24, 2024 13:47:59.197588000 CST</td>\n",
       "      <td>1.713938e+09</td>\n",
       "      <td>0.001803</td>\n",
       "      <td>192.168.1.203</td>\n",
       "      <td>223.140.16.198</td>\n",
       "      <td>5203</td>\n",
       "      <td>54237</td>\n",
       "      <td>QUIC</td>\n",
       "      <td>1294</td>\n",
       "      <td>Protected Payload (KP0), PKN: 0, NCI, NCI, NCI</td>\n",
       "      <td>NaN</td>\n",
       "      <td>â\\234\\223</td>\n",
       "    </tr>\n",
       "    <tr>\n",
       "      <th>5</th>\n",
       "      <td>6</td>\n",
       "      <td>Apr 24, 2024 13:47:59.227128000 CST</td>\n",
       "      <td>1.713938e+09</td>\n",
       "      <td>0.031343</td>\n",
       "      <td>192.168.1.203</td>\n",
       "      <td>223.140.16.198</td>\n",
       "      <td>5203</td>\n",
       "      <td>54237</td>\n",
       "      <td>QUIC</td>\n",
       "      <td>349</td>\n",
       "      <td>Protected Payload (KP0), PKN: 1, ACK, NT, CRYP...</td>\n",
       "      <td>NaN</td>\n",
       "      <td>â\\234\\223</td>\n",
       "    </tr>\n",
       "    <tr>\n",
       "      <th>7</th>\n",
       "      <td>8</td>\n",
       "      <td>Apr 24, 2024 13:47:59.230841000 CST</td>\n",
       "      <td>1.713938e+09</td>\n",
       "      <td>0.035056</td>\n",
       "      <td>192.168.1.203</td>\n",
       "      <td>223.140.16.198</td>\n",
       "      <td>5203</td>\n",
       "      <td>54237</td>\n",
       "      <td>HTTP3</td>\n",
       "      <td>1068</td>\n",
       "      <td>Protected Payload (KP0), PKN: 2, ACK, STREAM(0...</td>\n",
       "      <td>000425d401df5e7666289d0f0dbd5eba00000001bd1c2b...</td>\n",
       "      <td>â\\234\\223</td>\n",
       "    </tr>\n",
       "    <tr>\n",
       "      <th>8</th>\n",
       "      <td>9</td>\n",
       "      <td>Apr 24, 2024 13:47:59.231478000 CST</td>\n",
       "      <td>1.713938e+09</td>\n",
       "      <td>0.035693</td>\n",
       "      <td>192.168.1.203</td>\n",
       "      <td>223.140.16.198</td>\n",
       "      <td>5203</td>\n",
       "      <td>54237</td>\n",
       "      <td>QUIC</td>\n",
       "      <td>1065</td>\n",
       "      <td>Protected Payload (KP0), PKN: 3, STREAM(0)</td>\n",
       "      <td>000425d401df5e7666289d0f0dc9826b000000021d385e...</td>\n",
       "      <td>â\\234\\223</td>\n",
       "    </tr>\n",
       "    <tr>\n",
       "      <th>9</th>\n",
       "      <td>10</td>\n",
       "      <td>Apr 24, 2024 13:47:59.232262000 CST</td>\n",
       "      <td>1.713938e+09</td>\n",
       "      <td>0.036477</td>\n",
       "      <td>192.168.1.203</td>\n",
       "      <td>223.140.16.198</td>\n",
       "      <td>5203</td>\n",
       "      <td>54237</td>\n",
       "      <td>QUIC</td>\n",
       "      <td>1065</td>\n",
       "      <td>Protected Payload (KP0), PKN: 4, STREAM(0)</td>\n",
       "      <td>000425d401df5e7666289d0f0dd5c00700000003cc90b9...</td>\n",
       "      <td>â\\234\\223</td>\n",
       "    </tr>\n",
       "  </tbody>\n",
       "</table>\n",
       "</div>"
      ],
      "text/plain": [
       "   No.                         Arrival Time    Epoch Time      Time  \\\n",
       "1    2  Apr 24, 2024 13:47:59.197588000 CST  1.713938e+09  0.001803   \n",
       "5    6  Apr 24, 2024 13:47:59.227128000 CST  1.713938e+09  0.031343   \n",
       "7    8  Apr 24, 2024 13:47:59.230841000 CST  1.713938e+09  0.035056   \n",
       "8    9  Apr 24, 2024 13:47:59.231478000 CST  1.713938e+09  0.035693   \n",
       "9   10  Apr 24, 2024 13:47:59.232262000 CST  1.713938e+09  0.036477   \n",
       "\n",
       "          Source     Destination  Source Port  Destination Port Protocol  \\\n",
       "1  192.168.1.203  223.140.16.198         5203             54237     QUIC   \n",
       "5  192.168.1.203  223.140.16.198         5203             54237     QUIC   \n",
       "7  192.168.1.203  223.140.16.198         5203             54237    HTTP3   \n",
       "8  192.168.1.203  223.140.16.198         5203             54237     QUIC   \n",
       "9  192.168.1.203  223.140.16.198         5203             54237     QUIC   \n",
       "\n",
       "   Length                                               Info  \\\n",
       "1    1294     Protected Payload (KP0), PKN: 0, NCI, NCI, NCI   \n",
       "5     349  Protected Payload (KP0), PKN: 1, ACK, NT, CRYP...   \n",
       "7    1068  Protected Payload (KP0), PKN: 2, ACK, STREAM(0...   \n",
       "8    1065         Protected Payload (KP0), PKN: 3, STREAM(0)   \n",
       "9    1065         Protected Payload (KP0), PKN: 4, STREAM(0)   \n",
       "\n",
       "                                         Stream Data QUIC Short Header  \n",
       "1                                                NaN         â\\234\\223  \n",
       "5                                                NaN         â\\234\\223  \n",
       "7  000425d401df5e7666289d0f0dbd5eba00000001bd1c2b...         â\\234\\223  \n",
       "8  000425d401df5e7666289d0f0dc9826b000000021d385e...         â\\234\\223  \n",
       "9  000425d401df5e7666289d0f0dd5c00700000003cc90b9...         â\\234\\223  "
      ]
     },
     "execution_count": 4,
     "metadata": {},
     "output_type": "execute_result"
    }
   ],
   "source": [
    "cond_s = df['Source'] == '192.168.1.203'\n",
    "df_s = df[cond_s]\n",
    "df_s[:5]\n",
    "# cond_c = df['ip.src'] == '192.168.1.79'\n",
    "# df_c  = df[cond_c]\n",
    "# # frame_type == 3：ACK for STREAM\n",
    "# cond_ack = df_s['quic.frame_type'].str.contains('3', na=False)\n",
    "# df_s_ack = df_s[cond_ack]"
   ]
  },
  {
   "cell_type": "code",
   "execution_count": null,
   "metadata": {},
   "outputs": [],
   "source": [
    "# Create an empty list to hold the results\n",
    "rows = []\n",
    "\n",
    "delete_row = []\n",
    "\n",
    "for i in df_s_ack.index:\n",
    "    idx = df.iloc[i]['quic.ack.largest_acknowledged']\n",
    "    idx = int(idx)\n",
    "    filtered_data = df_c[df_c['quic.packet_number'] == str(idx)]\n",
    "    filtered_data = filtered_data[filtered_data['quic.frame_type'].str.contains('12', na=False)]\n",
    "    if filtered_data[filtered_data['quic.frame_type'].str.contains('12', na=False)].empty == True:\n",
    "        df_s_ack = df_s_ack.drop(i)\n",
    "        print(i, \"HI\")\n",
    "        continue\n",
    "    rows.append(filtered_data)\n",
    "\n",
    "# Now concatenate the rows to create the resulting DataFrame\n",
    "df_c_acked_stream = pd.concat(rows) # Transpose the DataFrame if needed\n",
    "\n",
    "df_c_acked_stream[:5]"
   ]
  },
  {
   "cell_type": "code",
   "execution_count": null,
   "metadata": {},
   "outputs": [],
   "source": [
    "print(df_s_ack.index)\n",
    "print(len(df_s_ack))"
   ]
  },
  {
   "cell_type": "code",
   "execution_count": null,
   "metadata": {},
   "outputs": [],
   "source": [
    "df['quic.frame_type'].iloc[12]"
   ]
  },
  {
   "cell_type": "code",
   "execution_count": null,
   "metadata": {},
   "outputs": [],
   "source": [
    "if len(df_s_ack) != len(df_c_acked_stream):\n",
    "    print(\"length not match\", len(df_s_ack), len(df_c_acked_stream))\n",
    "for i in range(len(df_s_ack)):\n",
    "    if int(df_c_acked_stream['quic.packet_number'].iloc[i]) != int(df_s_ack['quic.ack.largest_acknowledged'].iloc[i]):\n",
    "        print(\"packet not match!\", df_c_acked_stream['quic.packet_number'].iloc[i], int(df_s_ack['quic.ack.largest_acknowledged'].iloc[i]))\n",
    "print(\"check done!\")"
   ]
  },
  {
   "cell_type": "markdown",
   "metadata": {},
   "source": [
    "## Calculate Round-Trip-Time\n",
    "1. send time - receive time\n",
    "2. Show it as an IQR"
   ]
  },
  {
   "cell_type": "code",
   "execution_count": null,
   "metadata": {},
   "outputs": [],
   "source": [
    "rtt_list = []\n",
    "for i in range(len(df_s_ack)):\n",
    "    rtt_list.append(1000*((df_s_ack['frame.time_epoch'].iloc[i] - df_c_acked_stream['frame.time_epoch'].iloc[i] - df_s_ack['quic.ack.ack_delay'].iloc[i] / 1000000)))"
   ]
  },
  {
   "cell_type": "code",
   "execution_count": null,
   "metadata": {},
   "outputs": [],
   "source": [
    "stdev = statistics.stdev(rtt_list)\n",
    "mean = statistics.mean(rtt_list)\n",
    "median = statistics.median(rtt_list)\n",
    "print(\"standard deviation:\", stdev)\n",
    "print(\"mean:\", mean)\n",
    "print(\"median:\", median)"
   ]
  },
  {
   "cell_type": "code",
   "execution_count": null,
   "metadata": {},
   "outputs": [],
   "source": [
    "q1, q3 = np.percentile(rtt_list, [25, 75])\n",
    "iqr = q3 - q1\n",
    "\n",
    "lower_fence = q1 - (1.5*iqr)\n",
    "higher_fence = q3 + (1.5*iqr)\n",
    "\n",
    "print(q1, q3, iqr, lower_fence, higher_fence)"
   ]
  },
  {
   "cell_type": "code",
   "execution_count": null,
   "metadata": {},
   "outputs": [],
   "source": [
    "sns.boxplot(rtt_list)\n",
    "plt.show()"
   ]
  },
  {
   "cell_type": "markdown",
   "metadata": {},
   "source": [
    "## Re-Transmission"
   ]
  },
  {
   "cell_type": "code",
   "execution_count": null,
   "metadata": {},
   "outputs": [],
   "source": [
    "print(len(df_c_acked_stream))"
   ]
  },
  {
   "cell_type": "code",
   "execution_count": null,
   "metadata": {},
   "outputs": [],
   "source": [
    "x = df_c_acked_stream['quic.stream_data'].iloc[0]\n",
    "t = int(x[16:24], 16)\n",
    "usec = int(x[24:32], 16)\n",
    "# seq = int(x[32:40], 16)\n",
    "print(t, usec)"
   ]
  },
  {
   "cell_type": "code",
   "execution_count": null,
   "metadata": {},
   "outputs": [],
   "source": [
    "tList = []\n",
    "usecList = []\n",
    "t = 0\n",
    "usec = 0\n",
    "for i in range(len(df_c_acked_stream)):\n",
    "    idx = df_c_acked_stream['quic.packet_number'].iloc[i]\n",
    "    x = df_c_acked_stream['quic.stream_data'].iloc[i]\n",
    "    t = int(x[16:24], 16)\n",
    "    usec = int(x[24:32], 16)\n",
    "    tList.append(t)\n",
    "    usecList.append(usec)\n",
    "    print(idx, t, usec)"
   ]
  },
  {
   "cell_type": "code",
   "execution_count": null,
   "metadata": {},
   "outputs": [],
   "source": [
    "df_c_stream = df[df['quic.frame_type'] == '12']\n",
    "\n",
    "print(len(df_c_stream))\n",
    "df_c_stream[:5]"
   ]
  },
  {
   "cell_type": "code",
   "execution_count": null,
   "metadata": {},
   "outputs": [],
   "source": [
    "df_c_stream[12:15]\n",
    "# print(df_c_stream[21])\n",
    "# print(df_c_stream[22])"
   ]
  }
 ],
 "metadata": {
  "kernelspec": {
   "display_name": "Python 3",
   "language": "python",
   "name": "python3"
  },
  "language_info": {
   "codemirror_mode": {
    "name": "ipython",
    "version": 3
   },
   "file_extension": ".py",
   "mimetype": "text/x-python",
   "name": "python",
   "nbconvert_exporter": "python",
   "pygments_lexer": "ipython3",
   "version": "3.11.2"
  },
  "orig_nbformat": 4
 },
 "nbformat": 4,
 "nbformat_minor": 2
}
