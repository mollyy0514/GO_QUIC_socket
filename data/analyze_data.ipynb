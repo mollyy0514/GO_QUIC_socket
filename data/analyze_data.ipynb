{
 "cells": [
  {
   "cell_type": "code",
   "execution_count": null,
   "metadata": {},
   "outputs": [],
   "source": [
    "import statistics\n",
    "import pandas as pd\n",
    "import numpy as np\n",
    "import seaborn as sns\n",
    "import matplotlib.pyplot as plt"
   ]
  },
  {
   "cell_type": "code",
   "execution_count": null,
   "metadata": {},
   "outputs": [],
   "source": [
    "filepath = \"/Volumes/mollyT7/MOXA/test/20240417_1808_5203_pcap.csv\"\n",
    "df = pd.read_csv(filepath, sep=',', encoding='latin-1')\n"
   ]
  },
  {
   "cell_type": "code",
   "execution_count": null,
   "metadata": {},
   "outputs": [],
   "source": [
    "cond_s = df['Source'] == '192.168.1.203'\n",
    "df_s = df[cond_s]\n",
    "df_s[:5]\n",
    "# cond_c = df['ip.src'] == '192.168.1.79'\n",
    "# df_c  = df[cond_c]\n",
    "# # frame_type == 3：ACK for STREAM\n",
    "# cond_ack = df_s['quic.frame_type'].str.contains('3', na=False)\n",
    "# df_s_ack = df_s[cond_ack]"
   ]
  },
  {
   "cell_type": "code",
   "execution_count": null,
   "metadata": {},
   "outputs": [],
   "source": [
    "# Create an empty list to hold the results\n",
    "rows = []\n",
    "\n",
    "delete_row = []\n",
    "\n",
    "for i in df_s_ack.index:\n",
    "    idx = df.iloc[i]['quic.ack.largest_acknowledged']\n",
    "    idx = int(idx)\n",
    "    filtered_data = df_c[df_c['quic.packet_number'] == str(idx)]\n",
    "    filtered_data = filtered_data[filtered_data['quic.frame_type'].str.contains('12', na=False)]\n",
    "    if filtered_data[filtered_data['quic.frame_type'].str.contains('12', na=False)].empty == True:\n",
    "        df_s_ack = df_s_ack.drop(i)\n",
    "        print(i, \"HI\")\n",
    "        continue\n",
    "    rows.append(filtered_data)\n",
    "\n",
    "# Now concatenate the rows to create the resulting DataFrame\n",
    "df_c_acked_stream = pd.concat(rows) # Transpose the DataFrame if needed\n",
    "\n",
    "df_c_acked_stream[:5]"
   ]
  },
  {
   "cell_type": "code",
   "execution_count": null,
   "metadata": {},
   "outputs": [],
   "source": [
    "print(df_s_ack.index)\n",
    "print(len(df_s_ack))"
   ]
  },
  {
   "cell_type": "code",
   "execution_count": null,
   "metadata": {},
   "outputs": [],
   "source": [
    "df['quic.frame_type'].iloc[12]"
   ]
  },
  {
   "cell_type": "code",
   "execution_count": null,
   "metadata": {},
   "outputs": [],
   "source": [
    "if len(df_s_ack) != len(df_c_acked_stream):\n",
    "    print(\"length not match\", len(df_s_ack), len(df_c_acked_stream))\n",
    "for i in range(len(df_s_ack)):\n",
    "    if int(df_c_acked_stream['quic.packet_number'].iloc[i]) != int(df_s_ack['quic.ack.largest_acknowledged'].iloc[i]):\n",
    "        print(\"packet not match!\", df_c_acked_stream['quic.packet_number'].iloc[i], int(df_s_ack['quic.ack.largest_acknowledged'].iloc[i]))\n",
    "print(\"check done!\")"
   ]
  },
  {
   "cell_type": "markdown",
   "metadata": {},
   "source": [
    "## Calculate Round-Trip-Time\n",
    "1. send time - receive time\n",
    "2. Show it as an IQR"
   ]
  },
  {
   "cell_type": "code",
   "execution_count": null,
   "metadata": {},
   "outputs": [],
   "source": [
    "rtt_list = []\n",
    "for i in range(len(df_s_ack)):\n",
    "    rtt_list.append(1000*((df_s_ack['frame.time_epoch'].iloc[i] - df_c_acked_stream['frame.time_epoch'].iloc[i] - df_s_ack['quic.ack.ack_delay'].iloc[i] / 1000000)))"
   ]
  },
  {
   "cell_type": "code",
   "execution_count": null,
   "metadata": {},
   "outputs": [],
   "source": [
    "stdev = statistics.stdev(rtt_list)\n",
    "mean = statistics.mean(rtt_list)\n",
    "median = statistics.median(rtt_list)\n",
    "print(\"standard deviation:\", stdev)\n",
    "print(\"mean:\", mean)\n",
    "print(\"median:\", median)"
   ]
  },
  {
   "cell_type": "code",
   "execution_count": null,
   "metadata": {},
   "outputs": [],
   "source": [
    "q1, q3 = np.percentile(rtt_list, [25, 75])\n",
    "iqr = q3 - q1\n",
    "\n",
    "lower_fence = q1 - (1.5*iqr)\n",
    "higher_fence = q3 + (1.5*iqr)\n",
    "\n",
    "print(q1, q3, iqr, lower_fence, higher_fence)"
   ]
  },
  {
   "cell_type": "code",
   "execution_count": null,
   "metadata": {},
   "outputs": [],
   "source": [
    "sns.boxplot(rtt_list)\n",
    "plt.show()"
   ]
  },
  {
   "cell_type": "markdown",
   "metadata": {},
   "source": [
    "## Re-Transmission"
   ]
  },
  {
   "cell_type": "code",
   "execution_count": null,
   "metadata": {},
   "outputs": [],
   "source": [
    "print(len(df_c_acked_stream))"
   ]
  },
  {
   "cell_type": "code",
   "execution_count": null,
   "metadata": {},
   "outputs": [],
   "source": [
    "x = df_c_acked_stream['quic.stream_data'].iloc[0]\n",
    "t = int(x[16:24], 16)\n",
    "usec = int(x[24:32], 16)\n",
    "# seq = int(x[32:40], 16)\n",
    "print(t, usec)"
   ]
  },
  {
   "cell_type": "code",
   "execution_count": null,
   "metadata": {},
   "outputs": [],
   "source": [
    "tList = []\n",
    "usecList = []\n",
    "t = 0\n",
    "usec = 0\n",
    "for i in range(len(df_c_acked_stream)):\n",
    "    idx = df_c_acked_stream['quic.packet_number'].iloc[i]\n",
    "    x = df_c_acked_stream['quic.stream_data'].iloc[i]\n",
    "    t = int(x[16:24], 16)\n",
    "    usec = int(x[24:32], 16)\n",
    "    tList.append(t)\n",
    "    usecList.append(usec)\n",
    "    print(idx, t, usec)"
   ]
  },
  {
   "cell_type": "code",
   "execution_count": null,
   "metadata": {},
   "outputs": [],
   "source": [
    "df_c_stream = df[df['quic.frame_type'] == '12']\n",
    "\n",
    "print(len(df_c_stream))\n",
    "df_c_stream[:5]"
   ]
  },
  {
   "cell_type": "code",
   "execution_count": null,
   "metadata": {},
   "outputs": [],
   "source": [
    "df_c_stream[12:15]\n",
    "# print(df_c_stream[21])\n",
    "# print(df_c_stream[22])"
   ]
  }
 ],
 "metadata": {
  "kernelspec": {
   "display_name": "Python 3",
   "language": "python",
   "name": "python3"
  },
  "language_info": {
   "codemirror_mode": {
    "name": "ipython",
    "version": 3
   },
   "file_extension": ".py",
   "mimetype": "text/x-python",
   "name": "python",
   "nbconvert_exporter": "python",
   "pygments_lexer": "ipython3",
   "version": "3.11.2"
  },
  "orig_nbformat": 4
 },
 "nbformat": 4,
 "nbformat_minor": 2
}
